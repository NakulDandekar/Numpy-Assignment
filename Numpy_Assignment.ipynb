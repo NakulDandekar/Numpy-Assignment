{
 "cells": [
  {
   "cell_type": "markdown",
   "id": "d4c78d9f-5627-4f8c-ac3b-af2106495ec6",
   "metadata": {},
   "source": [
    "# Assignment No.4"
   ]
  },
  {
   "cell_type": "markdown",
   "id": "b03eb6a0-1e70-47c3-a597-dd66bed467a8",
   "metadata": {},
   "source": [
    "## Numpy "
   ]
  },
  {
   "cell_type": "markdown",
   "id": "493b009c-1d4c-4162-9205-8527d2da133d",
   "metadata": {},
   "source": [
    "### Theoretical Questions"
   ]
  },
  {
   "cell_type": "code",
   "execution_count": 4,
   "id": "1212f457-069f-4f41-b4ab-c04255893240",
   "metadata": {},
   "outputs": [
    {
     "data": {
      "text/plain": [
       "'\\nPurpose of Numpy:\\n1.Effective Data Handling\\n2.Mathematical Operations\\n3.Data Analysis\\n\\nAdvantages of Numpy:\\n1.Performance\\n2.Memory Efficiency\\n3.Vectorization\\n\\n\\nNumpy Enhances Python capabilities by providing:\\n1.Efficient Multidimensional Arrays: Fast,memory-efficient arrays for handling large datasets.\\n2.Vectorized Operations: Perform element-wise operations without explicit loops, speeding up calculations.\\n3.Mathematical Functions: Extensive library of mathematical operations optimized for performance.\\n4.Integration: Easily integrates with other scientific libraries like SciPy and pandas.\\n5.Memory Efficiency: Uses less memory than Python lists, making it ideal for large datasets.\\n    \\n>>These features make NumPy essential for scientific computing and data analysis in Python.\\n\\n'"
      ]
     },
     "execution_count": 4,
     "metadata": {},
     "output_type": "execute_result"
    }
   ],
   "source": [
    "# Explain the purpose and advantages of NumPy in scientific computing and data analysis. How does it enhance Python's capabilities for numerical operations?\n",
    "'''\n",
    "Purpose of Numpy:\n",
    "1.Effective Data Handling\n",
    "2.Mathematical Operations\n",
    "3.Data Analysis\n",
    "\n",
    "Advantages of Numpy:\n",
    "1.Performance\n",
    "2.Memory Efficiency\n",
    "3.Vectorization\n",
    "\n",
    "\n",
    "Numpy Enhances Python capabilities by providing:\n",
    "1.Efficient Multidimensional Arrays: Fast,memory-efficient arrays for handling large datasets.\n",
    "2.Vectorized Operations: Perform element-wise operations without explicit loops, speeding up calculations.\n",
    "3.Mathematical Functions: Extensive library of mathematical operations optimized for performance.\n",
    "4.Integration: Easily integrates with other scientific libraries like SciPy and pandas.\n",
    "5.Memory Efficiency: Uses less memory than Python lists, making it ideal for large datasets.\n",
    "    \n",
    ">>These features make NumPy essential for scientific computing and data analysis in Python.\n",
    "\n",
    "'''"
   ]
  },
  {
   "cell_type": "code",
   "execution_count": 43,
   "id": "bd7de29b-05de-489b-b37b-e76bdd0589c7",
   "metadata": {},
   "outputs": [
    {
     "data": {
      "text/plain": [
       "'\\n>>np.mean():\\n\\n1.Purpose: Calculates the arithmetic mean (average) of the elements along a specified axis or of the entire array if no axis is specified.\\n2.Syntax: np.mean(array, axis=None, dtype=None, out=None, keepdims=False)\\n3.Key Points:\\n>>Axis Handling: You can specify the axis along which to compute the mean. If no axis is specified, it computes the mean of the flattened array.\\n>>Weights: np.mean() does not support weighting. All elements are treated equally.\\n>>Usage: Use np.mean() when you need to calculate a simple average without considering any weights.\\n4.Example:\\nimport numpy as np\\narr = np.array([1, 2, 3, 4])\\nmean = np.mean(arr)\\n\\n>>np.average():\\n\\n1.Purpose: Calculates the weighted average of the elements along a specified axis or of the entire array if no axis is specified.\\n2.Syntax:np.average(array, axis=None, weights=None, returned=False)\\n3.Key Points:\\n>>Weights: np.average() allows you to provide a weights array. Each element in the input array can be assigned a weight, and the function computes the weighted average accordingly.\\n>>Returned Sum of Weights: If returned=True, np.average() returns a tuple of the weighted average and the sum of the weights.\\n>>Axis Handling: Like np.mean(), you can specify the axis along which to compute the average.\\n>>Usage: Use np.average() when you need to calculate a weighted average where different elements have different levels of importance.\\n4.Example:\\nimport numpy as np\\narr = np.array([1, 2, 3, 4])\\nweights = np.array([1, 2, 3, 4])\\nweighted_average = np.average(arr, weights=weights)\\n\\n\\n>>Basic Average: Both np.mean() and np.average() can compute a simple mean. However, np.mean() is more straightforward and should be used when no weighting is involved.\\n>>Weighted Average: Only np.average() allows for weighting, making it suitable for scenarios where certain elements should contribute more or less to the final average.\\n\\n>>Use np.mean(): When you need a straightforward arithmetic mean without any weights.\\n>>Use np.average(): When you need to compute a weighted average, or if you want to obtain the sum of the weights alongside the weighted average.\\n'"
      ]
     },
     "execution_count": 43,
     "metadata": {},
     "output_type": "execute_result"
    }
   ],
   "source": [
    "#Compare and contrast np.mean() and np.average() functions in NumPy. When would you use one over the other?\n",
    "'''\n",
    ">>np.mean():\n",
    "\n",
    "1.Purpose: Calculates the arithmetic mean (average) of the elements along a specified axis or of the entire array if no axis is specified.\n",
    "2.Syntax: np.mean(array, axis=None, dtype=None, out=None, keepdims=False)\n",
    "3.Key Points:\n",
    ">>Axis Handling: You can specify the axis along which to compute the mean. If no axis is specified, it computes the mean of the flattened array.\n",
    ">>Weights: np.mean() does not support weighting. All elements are treated equally.\n",
    ">>Usage: Use np.mean() when you need to calculate a simple average without considering any weights.\n",
    "4.Example:\n",
    "import numpy as np\n",
    "arr = np.array([1, 2, 3, 4])\n",
    "mean = np.mean(arr)\n",
    "\n",
    ">>np.average():\n",
    "\n",
    "1.Purpose: Calculates the weighted average of the elements along a specified axis or of the entire array if no axis is specified.\n",
    "2.Syntax:np.average(array, axis=None, weights=None, returned=False)\n",
    "3.Key Points:\n",
    ">>Weights: np.average() allows you to provide a weights array. Each element in the input array can be assigned a weight, and the function computes the weighted average accordingly.\n",
    ">>Returned Sum of Weights: If returned=True, np.average() returns a tuple of the weighted average and the sum of the weights.\n",
    ">>Axis Handling: Like np.mean(), you can specify the axis along which to compute the average.\n",
    ">>Usage: Use np.average() when you need to calculate a weighted average where different elements have different levels of importance.\n",
    "4.Example:\n",
    "import numpy as np\n",
    "arr = np.array([1, 2, 3, 4])\n",
    "weights = np.array([1, 2, 3, 4])\n",
    "weighted_average = np.average(arr, weights=weights)\n",
    "\n",
    "\n",
    ">>Basic Average: Both np.mean() and np.average() can compute a simple mean. However, np.mean() is more straightforward and should be used when no weighting is involved.\n",
    ">>Weighted Average: Only np.average() allows for weighting, making it suitable for scenarios where certain elements should contribute more or less to the final average.\n",
    "\n",
    ">>Use np.mean(): When you need a straightforward arithmetic mean without any weights.\n",
    ">>Use np.average(): When you need to compute a weighted average, or if you want to obtain the sum of the weights alongside the weighted average.\n",
    "'''\n"
   ]
  },
  {
   "cell_type": "code",
   "execution_count": 1,
   "id": "30d2f350-1728-4918-847f-24069aa9f4c1",
   "metadata": {},
   "outputs": [
    {
     "data": {
      "text/plain": [
       "'\\n>>Reversing a 1D Array:\\nMethod: Slicing with a step of -1\\nExample:\\nimport numpy as np\\narr = np.array([1, 2, 3, 4, 5])\\nreversed_arr = arr[::-1]\\nprint(reversed_arr)\\n\\nThe slicing operation [::-1] creates a new array that starts from the end of the original array and moves backwards to the beginning.\\n\\n\\n>>Reversing a 2D Array Along Different Axes\\nReversing Along the Rows (Axis 1)\\nMethod: Slicing with a step of -1 along the second axis\\nExample:\\nimport numpy as np\\narr = np.array([[1, 2, 3],\\n                [4, 5, 6],\\n                [7, 8, 9]])\\nreversed_rows = arr[:, ::-1]\\nprint(reversed_rows)\\n\\nThe slicing operation [:, ::-1] reverses the order of elements in each row, leaving the row order unchanged.\\n\\n>>Reversing Along the Columns (Axis 0)\\nMethod: Slicing with a step of -1 along the first axis.\\nimport numpy as np\\narr = np.array([[1, 2, 3],\\n                [4, 5, 6],\\n                [7, 8, 9]])\\nreversed_columns = arr[::-1, :]\\nprint(reversed_columns)\\n\\nThe slicing operation [::, -1] reverses the order of the rows while leaving the elements within each row unchanged.\\n\\n>>Reversing Both Axes (Both Rows and Columns)\\nMethod: Slicing with a step of -1 along both axes.\\nimport numpy as np\\narr = np.array([[1, 2, 3],\\n                [4, 5, 6],\\n                [7, 8, 9]])\\nreversed_both = arr[::-1, ::-1]\\nprint(reversed_both)\\n\\nThe slicing operation [::, -1], [::, -1] reverses the array both row-wise and column-wise, resulting in a completely reversed array.\\n\\n'"
      ]
     },
     "execution_count": 1,
     "metadata": {},
     "output_type": "execute_result"
    }
   ],
   "source": [
    "#Describe the methods for reversing a NumPy array along different axes. Provide examples for 1D and 2D arrays.\n",
    "'''\n",
    ">>Reversing a 1D Array:\n",
    "Method: Slicing with a step of -1\n",
    "Example:\n",
    "import numpy as np\n",
    "arr = np.array([1, 2, 3, 4, 5])\n",
    "reversed_arr = arr[::-1]\n",
    "print(reversed_arr)\n",
    "\n",
    "The slicing operation [::-1] creates a new array that starts from the end of the original array and moves backwards to the beginning.\n",
    "\n",
    "\n",
    ">>Reversing a 2D Array Along Different Axes\n",
    "Reversing Along the Rows (Axis 1)\n",
    "Method: Slicing with a step of -1 along the second axis\n",
    "Example:\n",
    "import numpy as np\n",
    "arr = np.array([[1, 2, 3],\n",
    "                [4, 5, 6],\n",
    "                [7, 8, 9]])\n",
    "reversed_rows = arr[:, ::-1]\n",
    "print(reversed_rows)\n",
    "\n",
    "The slicing operation [:, ::-1] reverses the order of elements in each row, leaving the row order unchanged.\n",
    "\n",
    ">>Reversing Along the Columns (Axis 0)\n",
    "Method: Slicing with a step of -1 along the first axis.\n",
    "import numpy as np\n",
    "arr = np.array([[1, 2, 3],\n",
    "                [4, 5, 6],\n",
    "                [7, 8, 9]])\n",
    "reversed_columns = arr[::-1, :]\n",
    "print(reversed_columns)\n",
    "\n",
    "The slicing operation [::, -1] reverses the order of the rows while leaving the elements within each row unchanged.\n",
    "\n",
    ">>Reversing Both Axes (Both Rows and Columns)\n",
    "Method: Slicing with a step of -1 along both axes.\n",
    "import numpy as np\n",
    "arr = np.array([[1, 2, 3],\n",
    "                [4, 5, 6],\n",
    "                [7, 8, 9]])\n",
    "reversed_both = arr[::-1, ::-1]\n",
    "print(reversed_both)\n",
    "\n",
    "The slicing operation [::, -1], [::, -1] reverses the array both row-wise and column-wise, resulting in a completely reversed array.\n",
    "\n",
    "'''"
   ]
  },
  {
   "cell_type": "code",
   "execution_count": null,
   "id": "74a82000-93bf-40f2-9099-51f970c02fa3",
   "metadata": {},
   "outputs": [],
   "source": [
    "# How can you determine the data type of elements in a NumPy array? Discuss the importance of data types in memory management and performance.\n",
    "'''\n",
    ">>To determine the data type of elements in a NumPy array, you can use the dtype attribute. This attribute returns an object that describes the data type of the array elements.\n",
    "Example:\n",
    "import numpy as np\n",
    "arr = np.array([1, 2, 3])\n",
    "print(arr.dtype)\n",
    "arr_float = np.array([1.0, 2.0, 3.0])\n",
    "print(arr_float.dtype)\n",
    "\n",
    ">>Data types are crucial in memory management and performance:\n",
    "\n",
    "1.Memory Management: The data type of an array determines the memory each element consumes. Using smaller data types (e.g., int32 vs. int64) reduces memory usage, which is important for handling large datasets efficiently.\n",
    "2.Performance: Operations on smaller data types are generally faster because they require fewer CPU cycles and allow better cache utilization. Choosing the right data type can significantly enhance the speed and efficiency of computations."
   ]
  },
  {
   "cell_type": "code",
   "execution_count": null,
   "id": "1be452a5-8bd6-4f9d-a86a-bc9123a865c8",
   "metadata": {},
   "outputs": [],
   "source": [
    "# Define ndarrays in NumPy and explain their key features. How do they differ from standard Python lists?\n",
    "'''\n",
    "Define:\n",
    "ndarray (N-dimensional array) is the core data structure in NumPy, representing a multidimensional, homogeneous array of fixed-size items. Each element in an ndarray has the same data type, and the array itself can have one or more dimensions.\n",
    "\n",
    "Key Features:\n",
    "Homogeneity:All elements in an ndarray have the same data type (e.g., all integers, all floats). This homogeneity allows for efficient storage and processing.\n",
    "Multidimensionality:ndarrays can have any number of dimensions, from 1D (like a list) to 2D (like a matrix) and beyond. The shape of an array is defined by the number of elements along each dimension (e.g., a 3x3 matrix is a 2D array with shape (3, 3)).\n",
    "Efficient Memory Layout:ndarrays are stored in contiguous blocks of memory, which makes them much more memory-efficient and faster for operations than standard Python lists, especially for large datasets.\n",
    "Slicing and Indexing:ndarrays offer advanced slicing and indexing capabilities, allowing you to access and modify subsets of data efficiently.\n",
    "Broadcasting:ndarrays support broadcasting, a powerful mechanism that allows operations on arrays of different shapes without needing to duplicate data. For example, you can add a 1D array to a 2D array directly.\n",
    "\n",
    "\n",
    ">>Differences from Standard Python Lists:\n",
    "Data Type Consistency:\n",
    "ndarray: All elements must be of the same data type, ensuring homogeneity.\n",
    "Python List: Can contain elements of different data types (e.g., integers, floats, strings), leading to flexibility but less efficiency.\n",
    "\n",
    "Memory Efficiency:\n",
    "ndarray: Stored in contiguous memory, which makes them more memory-efficient.\n",
    "Python List: Stored as an array of pointers to objects, which is less memory-efficient.\n",
    "\n",
    "Performance:\n",
    "ndarray: Operations are faster due to vectorization and the contiguous memory layout.\n",
    "Python List: Slower for large datasets because operations require explicit loops and elements are scattered in memory.\n",
    "\n",
    "Multidimensionality:\n",
    "ndarray: Naturally supports multidimensional arrays.\n",
    "Python List: Can be nested to create multidimensional structures, but handling them is less intuitive and less efficient.\n",
    "\n",
    "Functionality:\n",
    "ndarray: Comes with a rich set of mathematical and statistical functions optimized for array operations.\n",
    "Python List: Lacks built-in mathematical operations, requiring external libraries or manual implementation.\n",
    "'''"
   ]
  },
  {
   "cell_type": "code",
   "execution_count": null,
   "id": "39b4b59b-3143-4631-b9e0-27289468bf4b",
   "metadata": {},
   "outputs": [],
   "source": [
    "#Analyze the performance benefits of NumPy arrays over Python lists for large-scale numerical operations.\n",
    "'''\n",
    "\n",
    "NumPy arrays offer significant performance benefits over Python lists for large-scale numerical operations:\n",
    "\n",
    "1.Memory Efficiency: NumPy arrays are stored in contiguous memory and have a fixed data type, making them more memory-efficient than Python lists.\n",
    "\n",
    "2.Speed: NumPy supports vectorized operations, allowing for faster element-wise calculations without explicit loops. It also uses optimized, low-level (C and Fortran) implementations for mathematical functions.\n",
    "\n",
    "3.Broadcasting: NumPy allows operations on arrays of different shapes without manual size adjustments, further enhancing speed and reducing complexity.\n",
    "\n",
    "4.Efficient Iteration: Iterations in NumPy are faster due to reduced overhead compared to Python's interpreted loops.\n",
    "'''\n"
   ]
  },
  {
   "cell_type": "code",
   "execution_count": 4,
   "id": "ca37603c-7228-4f94-8d00-9a4a4227fe35",
   "metadata": {},
   "outputs": [
    {
     "data": {
      "text/plain": [
       "'\\n>>vstack() Function\\n\\nPurpose: Stacks arrays vertically (row-wise).\\nSyntax:\\nnumpy.vstack(tup)\\nWhere tup is a sequence of arrays to be stacked.\\n\\nRequirements:\\nArrays must have the same shape along all dimensions except the first\\n\\nExample:\\nimport numpy as np\\n\\narr1 = np.array([[1, 2, 3], [4, 5, 6]])\\narr2 = np.array([[7, 8, 9], [10, 11, 12]])\\n\\nresult = np.vstack((arr1, arr2))\\nprint(result)\\n\\n\\n>>hstack() Function\\n\\nPurpose: Stacks arrays horizontally (column-wise).\\nSyntax: numpy.hstack(tup)\\nWhere tup is a sequence of arrays to be stacked.\\n\\nRequirements:\\n\\nArrays must have the same shape along all dimensions except the second.\\n\\nExample:\\nimport numpy as np\\n\\narr1 = np.array([[1, 2, 3], [4, 5, 6]])\\narr2 = np.array([[7, 8, 9], [10, 11, 12]])\\n\\nresult = np.hstack((arr1, arr2))\\nprint(result)\\n'"
      ]
     },
     "execution_count": 4,
     "metadata": {},
     "output_type": "execute_result"
    }
   ],
   "source": [
    "#Compare vstack() and hstack() functions in NumPy. Provide examples demonstrating their usage and output.\n",
    "\n",
    "'''\n",
    ">>vstack() Function\n",
    "\n",
    "Purpose: Stacks arrays vertically (row-wise).\n",
    "Syntax:\n",
    "numpy.vstack(tup)\n",
    "Where tup is a sequence of arrays to be stacked.\n",
    "\n",
    "Requirements:\n",
    "Arrays must have the same shape along all dimensions except the first\n",
    "\n",
    "Example:\n",
    "import numpy as np\n",
    "\n",
    "arr1 = np.array([[1, 2, 3], [4, 5, 6]])\n",
    "arr2 = np.array([[7, 8, 9], [10, 11, 12]])\n",
    "\n",
    "result = np.vstack((arr1, arr2))\n",
    "print(result)\n",
    "\n",
    "\n",
    ">>hstack() Function\n",
    "\n",
    "Purpose: Stacks arrays horizontally (column-wise).\n",
    "Syntax: numpy.hstack(tup)\n",
    "Where tup is a sequence of arrays to be stacked.\n",
    "\n",
    "Requirements:\n",
    "\n",
    "Arrays must have the same shape along all dimensions except the second.\n",
    "\n",
    "Example:\n",
    "import numpy as np\n",
    "\n",
    "arr1 = np.array([[1, 2, 3], [4, 5, 6]])\n",
    "arr2 = np.array([[7, 8, 9], [10, 11, 12]])\n",
    "\n",
    "result = np.hstack((arr1, arr2))\n",
    "print(result)\n",
    "'''"
   ]
  },
  {
   "cell_type": "code",
   "execution_count": null,
   "id": "7d973b4f-3f58-49c9-a8e8-b27b2aa571bf",
   "metadata": {},
   "outputs": [],
   "source": [
    "# Explain the differences between fliplr() and flipud() methods in NumPy, including their effects on various array dimensions.\n",
    "'''\n",
    ">>The fliplr() and flipud() methods in NumPy are used to reverse the order of elements in an array along specific axes.\n",
    "\n",
    "1.fliplr()\n",
    "Purpose: Flips the array left-to-right, reversing the order of columns.\n",
    "Syntax:numpy.fliplr(m)............Where m is the array to be flipped.\n",
    "Effect on Dimensions:\n",
    "1D Array: Not applicable, as fliplr() requires at least a 2D array.\n",
    "2D Array: Reverses the columns. The rows remain unchanged.\n",
    "Higher-Dimensional Arrays: fliplr() operates on the last two dimensions. For instance, if you have a 3D array, fliplr() will reverse the columns for each 2D slice of the array.\n",
    "\n",
    "Example:\n",
    "import numpy as np\n",
    "arr = np.array([[1, 2, 3],\n",
    "                [4, 5, 6]])\n",
    "flipped_arr = np.fliplr(arr)\n",
    "print(flipped_arr)\n",
    "\n",
    "2.flipud()\n",
    "Purpose: Flips the array up-to-down, reversing the order of rows.\n",
    "Syntax:numpy.flipud(m)..........Where m is the array to be flipped.\n",
    "Effect on Dimensions:\n",
    "1D Array: Not applicable, as flipud() requires at least a 2D array.\n",
    "2D Array: Reverses the rows. The columns remain unchanged.\n",
    "Higher-Dimensional Arrays: flipud() operates on the first two dimensions. For example, in a 3D array, flipud() will reverse the rows for each 2D slice along the third dimension.\n",
    "\n",
    "Example:\n",
    "import numpy as np\n",
    "arr = np.array([[1, 2, 3],\n",
    "                [4, 5, 6]])\n",
    "flipped_arr = np.flipud(arr)\n",
    "print(flipped_arr)\n",
    "'''\n"
   ]
  },
  {
   "cell_type": "code",
   "execution_count": null,
   "id": "a452b5b7-e633-44a5-8c0e-29c977744da3",
   "metadata": {},
   "outputs": [],
   "source": [
    "#Discuss the functionality of the array_split() method in NumPy. How does it handle uneven splits?\n",
    "'''\n",
    ">>Functionality of array_split():\n",
    "Syntax:\n",
    "numpy.array_split(ary, indices_or_sections, axis=0)\n",
    "ary: The input array to be split.\n",
    "indices_or_sections: If an integer n, it splits the array into n sub-arrays. If a list of indices, the array is split at those indices.\n",
    "axis: The axis along which to split the array. The default is 0 (split along rows for a 2D array).\n",
    "\n",
    ">>Handling Uneven Splits\n",
    "When the array cannot be evenly divided into the specified number of sections, array_split() ensures that the split is as even as possible. The sub-arrays will differ in size by at most one element.\n",
    "\n",
    ">>Example with an Integer Number of Sections:\n",
    "import numpy as np\n",
    "arr = np.array([1, 2, 3, 4, 5, 6, 7])\n",
    "split_arr = np.array_split(arr, 3)\n",
    "print(split_arr)\n",
    "\n",
    "\n",
    ">>Example with a List of Indices:\n",
    "import numpy as np\n",
    "arr = np.array([1, 2, 3, 4, 5, 6, 7])\n",
    "split_arr = np.array_split(arr, [2, 5])\n",
    "print(split_arr)\n",
    "\n",
    "'''\n"
   ]
  },
  {
   "cell_type": "code",
   "execution_count": 1,
   "id": "5732eb58-e352-4d06-9487-9fac6f654e23",
   "metadata": {},
   "outputs": [
    {
     "data": {
      "text/plain": [
       "\"\\nVectorization and broadcasting are two powerful concepts in NumPy that significantly contribute to efficient array operations. They help in optimizing performance and reducing the complexity of code when dealing with large datasets.\\n\\n1.Vectorization:\\nConcept:\\nVectorization refers to the process of applying operations directly to entire arrays or large blocks of data at once, without the need for explicit loops in the code. This approach leverages low-level optimizations implemented in C or Fortran, allowing these operations to be executed much faster than traditional Python loops.\\n\\nExample:\\nimport numpy as np\\narr = np.array([1, 2, 3, 4])\\nresult = arr + 10\\nprint(result)\\n\\nBenefits:\\n>>Performance: Vectorized operations are much faster than manually iterating over arrays in Python.\\n>>Simplicity: The code is easier to read and write, as it avoids explicit loops.\\n\\n\\n2.Broadcasting\\nConcept:\\nBroadcasting is a mechanism that allows NumPy to perform operations on arrays of different shapes by automatically expanding the smaller array along the necessary dimensions to match the shape of the larger array. This allows for operations that would otherwise require complex handling of shapes and dimensions.\\n\\nRules:\\n>>If the arrays differ in the number of dimensions, the smaller array is padded with ones on its left side.\\n>>If the shape of the arrays does not match along a dimension, the smaller array's dimension is stretched to match the larger one.\\n>>If the arrays cannot be broadcasted together based on these rules, an error is raised.\\n\\nExample:\\nimport numpy as np\\narr1 = np.array([[1, 2, 3], [4, 5, 6]])\\narr2 = np.array([10, 20, 30])\\nresult = arr1 + arr2\\nprint(result)\\n\\nBenefits:\\n>>Memory Efficiency: Broadcasting avoids the need to create large, repeated arrays to perform element-wise operations, saving memory.\\n>>Performance: Operations using broadcasting are faster because they utilize the underlying optimized C and Fortran libraries of NumPy.\\n\\n\\n>>Contribution to Efficient Array Operations\\n1.Speed: Both vectorization and broadcasting leverage low-level optimizations, allowing operations to be executed at compiled speeds, which are significantly faster than interpreted Python loops.\\n2.Memory Efficiency: Broadcasting allows operations on different-sized arrays without creating intermediate copies, which is more memory-efficient.\\n3.Conciseness: Code that utilizes vectorization and broadcasting is often much shorter and easier to understand, reducing the likelihood of errors and making maintenance easier.\\n\\n\\n\""
      ]
     },
     "execution_count": 1,
     "metadata": {},
     "output_type": "execute_result"
    }
   ],
   "source": [
    "#Explain the concepts of vectorization and broadcasting in NumPy. How do they contribute to efficient array operations?\n",
    "'''\n",
    "Vectorization and broadcasting are two powerful concepts in NumPy that significantly contribute to efficient array operations. They help in optimizing performance and reducing the complexity of code when dealing with large datasets.\n",
    "\n",
    "1.Vectorization:\n",
    "Concept:\n",
    "Vectorization refers to the process of applying operations directly to entire arrays or large blocks of data at once, without the need for explicit loops in the code. This approach leverages low-level optimizations implemented in C or Fortran, allowing these operations to be executed much faster than traditional Python loops.\n",
    "\n",
    "Example:\n",
    "import numpy as np\n",
    "arr = np.array([1, 2, 3, 4])\n",
    "result = arr + 10\n",
    "print(result)\n",
    "\n",
    "Benefits:\n",
    ">>Performance: Vectorized operations are much faster than manually iterating over arrays in Python.\n",
    ">>Simplicity: The code is easier to read and write, as it avoids explicit loops.\n",
    "\n",
    "\n",
    "2.Broadcasting\n",
    "Concept:\n",
    "Broadcasting is a mechanism that allows NumPy to perform operations on arrays of different shapes by automatically expanding the smaller array along the necessary dimensions to match the shape of the larger array. This allows for operations that would otherwise require complex handling of shapes and dimensions.\n",
    "\n",
    "Rules:\n",
    ">>If the arrays differ in the number of dimensions, the smaller array is padded with ones on its left side.\n",
    ">>If the shape of the arrays does not match along a dimension, the smaller array's dimension is stretched to match the larger one.\n",
    ">>If the arrays cannot be broadcasted together based on these rules, an error is raised.\n",
    "\n",
    "Example:\n",
    "import numpy as np\n",
    "arr1 = np.array([[1, 2, 3], [4, 5, 6]])\n",
    "arr2 = np.array([10, 20, 30])\n",
    "result = arr1 + arr2\n",
    "print(result)\n",
    "\n",
    "Benefits:\n",
    ">>Memory Efficiency: Broadcasting avoids the need to create large, repeated arrays to perform element-wise operations, saving memory.\n",
    ">>Performance: Operations using broadcasting are faster because they utilize the underlying optimized C and Fortran libraries of NumPy.\n",
    "\n",
    "\n",
    ">>Contribution to Efficient Array Operations\n",
    "1.Speed: Both vectorization and broadcasting leverage low-level optimizations, allowing operations to be executed at compiled speeds, which are significantly faster than interpreted Python loops.\n",
    "2.Memory Efficiency: Broadcasting allows operations on different-sized arrays without creating intermediate copies, which is more memory-efficient.\n",
    "3.Conciseness: Code that utilizes vectorization and broadcasting is often much shorter and easier to understand, reducing the likelihood of errors and making maintenance easier.\n",
    "\n",
    "\n",
    "'''\n"
   ]
  },
  {
   "cell_type": "markdown",
   "id": "026ba169-be93-458c-89f6-fa2dcf9b65fe",
   "metadata": {},
   "source": [
    "# Practical Questions:"
   ]
  },
  {
   "cell_type": "code",
   "execution_count": null,
   "id": "f09f36bc-672c-4c6c-9440-7ce614a12db0",
   "metadata": {},
   "outputs": [],
   "source": [
    "# Create a 3x3 NumPy array with random integers between 1 and 100. Then, interchange its rows and columns\n",
    "import numpy as np\n",
    "arr = np.random.randint(1, 101, size=(3, 3))\n",
    "transposed_arr = arr.T\n",
    "arr, transposed_arr"
   ]
  },
  {
   "cell_type": "code",
   "execution_count": 24,
   "id": "5daff93b-6dbd-49b7-91ad-59e2deecc90f",
   "metadata": {},
   "outputs": [
    {
     "data": {
      "text/plain": [
       "(array([0, 1, 2, 3, 4, 5, 6, 7, 8, 9]),\n",
       " array([[0, 1, 2, 3, 4],\n",
       "        [5, 6, 7, 8, 9]]),\n",
       " array([[0, 1],\n",
       "        [2, 3],\n",
       "        [4, 5],\n",
       "        [6, 7],\n",
       "        [8, 9]]))"
      ]
     },
     "execution_count": 24,
     "metadata": {},
     "output_type": "execute_result"
    }
   ],
   "source": [
    "#Generate a 1D NumPy array with 10 elements. Reshape it into a 2x5 array, then into a 5x2 array.\n",
    "import numpy as np\n",
    "array_1d = np.arange(10)\n",
    "array_2x5 = array_1d.reshape(2, 5)\n",
    "array_5x2 = array_2x5.reshape(5, 2)\n",
    "array_1d, array_2x5, array_5x2\n"
   ]
  },
  {
   "cell_type": "code",
   "execution_count": 31,
   "id": "f09de63a-97ef-44ca-a2fe-304d9cdfcc81",
   "metadata": {},
   "outputs": [
    {
     "data": {
      "text/plain": [
       "array([[0.        , 0.        , 0.        , 0.        , 0.        ,\n",
       "        0.        ],\n",
       "       [0.        , 0.33405956, 0.20375242, 0.26213591, 0.45367142,\n",
       "        0.        ],\n",
       "       [0.        , 0.44405674, 0.98733152, 0.59739131, 0.71373641,\n",
       "        0.        ],\n",
       "       [0.        , 0.52600279, 0.0771553 , 0.71882292, 0.26885142,\n",
       "        0.        ],\n",
       "       [0.        , 0.64465004, 0.18388421, 0.10551213, 0.77935878,\n",
       "        0.        ],\n",
       "       [0.        , 0.        , 0.        , 0.        , 0.        ,\n",
       "        0.        ]])"
      ]
     },
     "execution_count": 31,
     "metadata": {},
     "output_type": "execute_result"
    }
   ],
   "source": [
    "#Create a 4x4 NumPy array with random float values. Add a border of zeros around it, resulting in a 6x6 array\n",
    "import numpy as np\n",
    "array_4x4 = np.random.rand(4, 4)\n",
    "array_with_border = np.pad(array_4x4, pad_width=1, mode='constant', constant_values=0)\n",
    "array_with_border"
   ]
  },
  {
   "cell_type": "code",
   "execution_count": 34,
   "id": "7b5fb73a-4923-479a-92c7-7b01fd964779",
   "metadata": {},
   "outputs": [
    {
     "data": {
      "text/plain": [
       "array([10, 15, 20, 25, 30, 35, 40, 45, 50, 55, 60])"
      ]
     },
     "execution_count": 34,
     "metadata": {},
     "output_type": "execute_result"
    }
   ],
   "source": [
    "# Using NumPy, create an array of integers from 10 to 60 with a step of 5\n",
    "import numpy as np\n",
    "array_step = np.arange(10, 65, 5)\n",
    "array_step"
   ]
  },
  {
   "cell_type": "code",
   "execution_count": 36,
   "id": "a8998fdf-77e8-41e9-a5fa-15b08b0db160",
   "metadata": {},
   "outputs": [
    {
     "name": "stdout",
     "output_type": "stream",
     "text": [
      "Original Array: ['python' 'numpy' 'pandas']\n",
      "Uppercase: ['PYTHON' 'NUMPY' 'PANDAS']\n",
      "Lowercase: ['python' 'numpy' 'pandas']\n",
      "Title Case: ['Python' 'Numpy' 'Pandas']\n"
     ]
    }
   ],
   "source": [
    "#Create a NumPy array of strings ['python', 'numpy', 'pandas']. Apply different case transformations (uppercase, lowercase, title case, etc.) to each element.\n",
    "import numpy as np\n",
    "string_array = np.array(['python', 'numpy', 'pandas'])\n",
    "uppercase_array = np.char.upper(string_array)\n",
    "lowercase_array = np.char.lower(string_array)\n",
    "titlecase_array = np.char.title(string_array)\n",
    "print(\"Original Array:\", string_array)\n",
    "print(\"Uppercase:\", uppercase_array)\n",
    "print(\"Lowercase:\", lowercase_array)\n",
    "print(\"Title Case:\", titlecase_array)\n"
   ]
  },
  {
   "cell_type": "code",
   "execution_count": 37,
   "id": "df1dbff7-1deb-401a-b6f1-3880aaa5de5b",
   "metadata": {},
   "outputs": [
    {
     "name": "stdout",
     "output_type": "stream",
     "text": [
      "Original Array: ['hello' 'world' 'numpy']\n",
      "Spaced Characters Array: ['h e l l o' 'w o r l d' 'n u m p y']\n"
     ]
    }
   ],
   "source": [
    "#Generate a NumPy array of words. Insert a space between each character of every word in the array.\n",
    "import numpy as np\n",
    "words_array = np.array(['hello', 'world', 'numpy'])\n",
    "spaced_words_array = np.char.join(' ', words_array)\n",
    "print(\"Original Array:\", words_array)\n",
    "print(\"Spaced Characters Array:\", spaced_words_array)\n"
   ]
  },
  {
   "cell_type": "code",
   "execution_count": 38,
   "id": "132aac65-c31e-47d3-8036-4c7cfc4a74a4",
   "metadata": {},
   "outputs": [
    {
     "name": "stdout",
     "output_type": "stream",
     "text": [
      "Array 1:\n",
      "[[1 2]\n",
      " [3 4]]\n",
      "\n",
      "Array 2:\n",
      "[[5 6]\n",
      " [7 8]]\n",
      "\n",
      "Element-wise Addition:\n",
      "[[ 6  8]\n",
      " [10 12]]\n",
      "\n",
      "Element-wise Subtraction:\n",
      "[[-4 -4]\n",
      " [-4 -4]]\n",
      "\n",
      "Element-wise Multiplication:\n",
      "[[ 5 12]\n",
      " [21 32]]\n",
      "\n",
      "Element-wise Division:\n",
      "[[0.2        0.33333333]\n",
      " [0.42857143 0.5       ]]\n"
     ]
    }
   ],
   "source": [
    "#Create two 2D NumPy arrays and perform element-wise addition, subtraction, multiplication, and division.\n",
    "import numpy as np\n",
    "array_2d_1 = np.array([[1, 2], [3, 4]])\n",
    "array_2d_2 = np.array([[5, 6], [7, 8]])\n",
    "addition_result = array_2d_1 + array_2d_2\n",
    "subtraction_result = array_2d_1 - array_2d_2\n",
    "multiplication_result = array_2d_1 * array_2d_2\n",
    "division_result = array_2d_1 / array_2d_2\n",
    "print(\"Array 1:\")\n",
    "print(array_2d_1)\n",
    "print(\"\\nArray 2:\")\n",
    "print(array_2d_2)\n",
    "print(\"\\nElement-wise Addition:\")\n",
    "print(addition_result)\n",
    "print(\"\\nElement-wise Subtraction:\")\n",
    "print(subtraction_result)\n",
    "print(\"\\nElement-wise Multiplication:\")\n",
    "print(multiplication_result)\n",
    "print(\"\\nElement-wise Division:\")\n",
    "print(division_result)\n"
   ]
  },
  {
   "cell_type": "code",
   "execution_count": 39,
   "id": "7f47052c-10c9-44f0-9543-2474f001d5d7",
   "metadata": {},
   "outputs": [
    {
     "name": "stdout",
     "output_type": "stream",
     "text": [
      "5x5 Identity Matrix:\n",
      "[[1. 0. 0. 0. 0.]\n",
      " [0. 1. 0. 0. 0.]\n",
      " [0. 0. 1. 0. 0.]\n",
      " [0. 0. 0. 1. 0.]\n",
      " [0. 0. 0. 0. 1.]]\n",
      "\n",
      "Diagonal Elements:\n",
      "[1. 1. 1. 1. 1.]\n"
     ]
    }
   ],
   "source": [
    "#Use NumPy to create a 5x5 identity matrix, then extract its diagonal elements.\n",
    "import numpy as np\n",
    "identity_matrix = np.eye(5)\n",
    "diagonal_elements = np.diag(identity_matrix)\n",
    "print(\"5x5 Identity Matrix:\")\n",
    "print(identity_matrix)\n",
    "print(\"\\nDiagonal Elements:\")\n",
    "print(diagonal_elements)\n"
   ]
  },
  {
   "cell_type": "code",
   "execution_count": 40,
   "id": "c923810a-4e47-47a2-bc60-fe788426723d",
   "metadata": {},
   "outputs": [
    {
     "name": "stdout",
     "output_type": "stream",
     "text": [
      "Array: [361 135 369 214 150 128 848 158 494 819 965 395 560  31 529 804 732 407\n",
      " 476 348 221 831 165 165 285 848 672 384 943  37 596  13 776 770 528 233\n",
      " 870 261 630 216 937 862 559 514 332 369 161 578 247 196 961 861 595 612\n",
      " 801 611  24 336 639 964 166 626 673 793  73  88 328  74 240 318 720 241\n",
      " 598 271 562 199 394 118  52 674 972 748 736 736 855 758 887 687 932  74\n",
      " 669 433 617  10 357 532 650 184 444 215]\n",
      "Prime numbers in the array: [31, 37, 13, 233, 937, 673, 73, 241, 271, 199, 887, 433, 617]\n"
     ]
    }
   ],
   "source": [
    "#Generate a NumPy array of 100 random integers between 0 and 1000. Find and display all prime numbers in this array.\n",
    "import numpy as np\n",
    "array = np.random.randint(0, 1001, size=100)\n",
    "def is_prime(n):\n",
    "    if n <= 1:\n",
    "        return False\n",
    "    if n <= 3:\n",
    "        return True\n",
    "    if n % 2 == 0 or n % 3 == 0:\n",
    "        return False\n",
    "    i = 5\n",
    "    while i * i <= n:\n",
    "        if n % i == 0 or n % (i + 2) == 0:\n",
    "            return False\n",
    "        i += 6\n",
    "    return True\n",
    "primes = [num for num in array if is_prime(num)]\n",
    "print(\"Array:\", array)\n",
    "print(\"Prime numbers in the array:\", primes)\n"
   ]
  },
  {
   "cell_type": "code",
   "execution_count": 42,
   "id": "c71dc153-63b8-4751-a178-1ff41c86e910",
   "metadata": {},
   "outputs": [
    {
     "name": "stdout",
     "output_type": "stream",
     "text": [
      "Daily temperatures for the month: [93 19 26 66 63 55 95 13 33 72 23  1 95 28 46 23 44 81 21 44 34 28 50 39\n",
      " 69 73 67 23 49 26]\n",
      "Weekly averages: [53.66666667 39.5        52.83333333 36.         51.16666667]\n"
     ]
    }
   ],
   "source": [
    "#Create a NumPy array representing daily temperatures for a month. Calculate and display the weekly averages.\n",
    "import numpy as np\n",
    "daily_temperatures = np.random.randint(0, 101, size=30)  \n",
    "weekly_temperatures = daily_temperatures.reshape(5,6)\n",
    "weekly_averages = np.mean(weekly_temperatures, axis=1)\n",
    "print(\"Daily temperatures for the month:\", daily_temperatures)\n",
    "print(\"Weekly averages:\", weekly_averages)"
   ]
  },
  {
   "cell_type": "code",
   "execution_count": null,
   "id": "4d31e66b-12f0-48ae-af0a-c5d3de42e271",
   "metadata": {},
   "outputs": [],
   "source": []
  }
 ],
 "metadata": {
  "kernelspec": {
   "display_name": "Python 3 (ipykernel)",
   "language": "python",
   "name": "python3"
  },
  "language_info": {
   "codemirror_mode": {
    "name": "ipython",
    "version": 3
   },
   "file_extension": ".py",
   "mimetype": "text/x-python",
   "name": "python",
   "nbconvert_exporter": "python",
   "pygments_lexer": "ipython3",
   "version": "3.10.8"
  }
 },
 "nbformat": 4,
 "nbformat_minor": 5
}
